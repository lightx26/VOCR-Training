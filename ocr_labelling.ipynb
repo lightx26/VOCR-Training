{
  "nbformat": 4,
  "nbformat_minor": 0,
  "metadata": {
    "colab": {
      "provenance": [],
      "authorship_tag": "ABX9TyOg335ZzHN4Hqtx1uvPktXc",
      "include_colab_link": true
    },
    "kernelspec": {
      "name": "python3",
      "display_name": "Python 3"
    },
    "language_info": {
      "name": "python"
    }
  },
  "cells": [
    {
      "cell_type": "markdown",
      "metadata": {
        "id": "view-in-github",
        "colab_type": "text"
      },
      "source": [
        "<a href=\"https://colab.research.google.com/github/lightx26/VOCR-Training/blob/main/ocr_labelling.ipynb\" target=\"_parent\"><img src=\"https://colab.research.google.com/assets/colab-badge.svg\" alt=\"Open In Colab\"/></a>"
      ]
    },
    {
      "cell_type": "markdown",
      "source": [
        "# Set-up"
      ],
      "metadata": {
        "id": "souevZuAiFBJ"
      }
    },
    {
      "cell_type": "markdown",
      "source": [
        "\n",
        "\n",
        "> **Chuyển runtime sang T4-GPU để vietocr hoạt động nhanh hơn**\n",
        "\n"
      ],
      "metadata": {
        "id": "tqK8JEVfilVq"
      }
    },
    {
      "cell_type": "markdown",
      "source": [
        "## Dependencies"
      ],
      "metadata": {
        "id": "jdxk219zPRW2"
      }
    },
    {
      "cell_type": "markdown",
      "source": [
        "Tải thư viện vietocr"
      ],
      "metadata": {
        "id": "DLQbavUIdXDe"
      }
    },
    {
      "cell_type": "code",
      "source": [
        "!pip install --quiet vietocr"
      ],
      "metadata": {
        "id": "fD6Skt1VEnNP",
        "colab": {
          "base_uri": "https://localhost:8080/"
        },
        "outputId": "cc647565-abb1-4571-ee37-09a83e721381"
      },
      "execution_count": null,
      "outputs": [
        {
          "output_type": "stream",
          "name": "stdout",
          "text": [
            "  Installing build dependencies ... \u001b[?25l\u001b[?25hdone\n",
            "  Getting requirements to build wheel ... \u001b[?25l\u001b[?25hdone\n",
            "  Preparing metadata (pyproject.toml) ... \u001b[?25l\u001b[?25hdone\n",
            "  Preparing metadata (setup.py) ... \u001b[?25l\u001b[?25hdone\n",
            "\u001b[2K     \u001b[90m━━━━━━━━━━━━━━━━━━━━━━━━━━━━━━━━━━━━━━━━\u001b[0m \u001b[32m133.9/133.9 kB\u001b[0m \u001b[31m10.8 MB/s\u001b[0m eta \u001b[36m0:00:00\u001b[0m\n",
            "\u001b[2K     \u001b[90m━━━━━━━━━━━━━━━━━━━━━━━━━━━━━━━━━━━━━━━━\u001b[0m \u001b[32m299.2/299.2 kB\u001b[0m \u001b[31m27.2 MB/s\u001b[0m eta \u001b[36m0:00:00\u001b[0m\n",
            "\u001b[2K     \u001b[90m━━━━━━━━━━━━━━━━━━━━━━━━━━━━━━━━━━━━━━━━\u001b[0m \u001b[32m14.7/14.7 MB\u001b[0m \u001b[31m58.6 MB/s\u001b[0m eta \u001b[36m0:00:00\u001b[0m\n",
            "\u001b[2K     \u001b[90m━━━━━━━━━━━━━━━━━━━━━━━━━━━━━━━━━━━━━━━━\u001b[0m \u001b[32m4.5/4.5 MB\u001b[0m \u001b[31m74.3 MB/s\u001b[0m eta \u001b[36m0:00:00\u001b[0m\n",
            "\u001b[2K     \u001b[90m━━━━━━━━━━━━━━━━━━━━━━━━━━━━━━━━━━━━━━━━\u001b[0m \u001b[32m12.1/12.1 MB\u001b[0m \u001b[31m73.8 MB/s\u001b[0m eta \u001b[36m0:00:00\u001b[0m\n",
            "\u001b[2K     \u001b[90m━━━━━━━━━━━━━━━━━━━━━━━━━━━━━━━━━━━━━━━━\u001b[0m \u001b[32m313.4/313.4 kB\u001b[0m \u001b[31m32.5 MB/s\u001b[0m eta \u001b[36m0:00:00\u001b[0m\n",
            "\u001b[?25h  Building wheel for gdown (pyproject.toml) ... \u001b[?25l\u001b[?25hdone\n",
            "  Building wheel for prefetch-generator (setup.py) ... \u001b[?25l\u001b[?25hdone\n"
          ]
        }
      ]
    },
    {
      "cell_type": "markdown",
      "source": [
        "Update thư viện pillow ~10.3.0 (version cũ có thể lỗi)"
      ],
      "metadata": {
        "id": "SoMBUKvpdeAl"
      }
    },
    {
      "cell_type": "code",
      "source": [
        "!pip install pillow --upgrade"
      ],
      "metadata": {
        "colab": {
          "base_uri": "https://localhost:8080/",
          "height": 354
        },
        "id": "XQJ0wjLOn7In",
        "outputId": "5a0a993a-86df-4434-f3bc-7768fce73562"
      },
      "execution_count": null,
      "outputs": [
        {
          "output_type": "stream",
          "name": "stdout",
          "text": [
            "Requirement already satisfied: pillow in /usr/local/lib/python3.10/dist-packages (10.2.0)\n",
            "Collecting pillow\n",
            "  Downloading pillow-10.3.0-cp310-cp310-manylinux_2_28_x86_64.whl (4.5 MB)\n",
            "\u001b[2K     \u001b[90m━━━━━━━━━━━━━━━━━━━━━━━━━━━━━━━━━━━━━━━━\u001b[0m \u001b[32m4.5/4.5 MB\u001b[0m \u001b[31m12.7 MB/s\u001b[0m eta \u001b[36m0:00:00\u001b[0m\n",
            "\u001b[?25hInstalling collected packages: pillow\n",
            "  Attempting uninstall: pillow\n",
            "    Found existing installation: pillow 10.2.0\n",
            "    Uninstalling pillow-10.2.0:\n",
            "      Successfully uninstalled pillow-10.2.0\n",
            "\u001b[31mERROR: pip's dependency resolver does not currently take into account all the packages that are installed. This behaviour is the source of the following dependency conflicts.\n",
            "vietocr 0.3.13 requires pillow==10.2.0, but you have pillow 10.3.0 which is incompatible.\u001b[0m\u001b[31m\n",
            "\u001b[0mSuccessfully installed pillow-10.3.0\n"
          ]
        },
        {
          "output_type": "display_data",
          "data": {
            "application/vnd.colab-display-data+json": {
              "pip_warning": {
                "packages": [
                  "PIL"
                ]
              },
              "id": "f24a2b8025b7423db2fc662305298625"
            }
          },
          "metadata": {}
        }
      ]
    },
    {
      "cell_type": "code",
      "source": [
        "from PIL import Image\n",
        "print(Image.__version__)"
      ],
      "metadata": {
        "colab": {
          "base_uri": "https://localhost:8080/"
        },
        "id": "v0ZNACDYmhwS",
        "outputId": "9cbea5d3-3206-493e-e223-db053636eac8"
      },
      "execution_count": null,
      "outputs": [
        {
          "output_type": "stream",
          "name": "stdout",
          "text": [
            "10.3.0\n"
          ]
        }
      ]
    },
    {
      "cell_type": "markdown",
      "source": [
        "## Data"
      ],
      "metadata": {
        "id": "MiWNIyhtPUtI"
      }
    },
    {
      "cell_type": "markdown",
      "source": [
        "Tải file nén chứa dataset"
      ],
      "metadata": {
        "id": "5mhddGyddmEG"
      }
    },
    {
      "cell_type": "code",
      "source": [
        "!pip install --upgrade --no-cache-dir gdown"
      ],
      "metadata": {
        "colab": {
          "base_uri": "https://localhost:8080/"
        },
        "id": "0hdQdqqVuOMc",
        "outputId": "8ecad002-0a69-46b2-8993-d916f89786e8"
      },
      "execution_count": null,
      "outputs": [
        {
          "output_type": "stream",
          "name": "stdout",
          "text": [
            "Requirement already satisfied: gdown in /usr/local/lib/python3.10/dist-packages (4.4.0)\n",
            "Collecting gdown\n",
            "  Downloading gdown-5.1.0-py3-none-any.whl (17 kB)\n",
            "Requirement already satisfied: beautifulsoup4 in /usr/local/lib/python3.10/dist-packages (from gdown) (4.12.3)\n",
            "Requirement already satisfied: filelock in /usr/local/lib/python3.10/dist-packages (from gdown) (3.13.4)\n",
            "Requirement already satisfied: requests[socks] in /usr/local/lib/python3.10/dist-packages (from gdown) (2.31.0)\n",
            "Requirement already satisfied: tqdm in /usr/local/lib/python3.10/dist-packages (from gdown) (4.66.2)\n",
            "Requirement already satisfied: soupsieve>1.2 in /usr/local/lib/python3.10/dist-packages (from beautifulsoup4->gdown) (2.5)\n",
            "Requirement already satisfied: charset-normalizer<4,>=2 in /usr/local/lib/python3.10/dist-packages (from requests[socks]->gdown) (3.3.2)\n",
            "Requirement already satisfied: idna<4,>=2.5 in /usr/local/lib/python3.10/dist-packages (from requests[socks]->gdown) (3.6)\n",
            "Requirement already satisfied: urllib3<3,>=1.21.1 in /usr/local/lib/python3.10/dist-packages (from requests[socks]->gdown) (2.0.7)\n",
            "Requirement already satisfied: certifi>=2017.4.17 in /usr/local/lib/python3.10/dist-packages (from requests[socks]->gdown) (2024.2.2)\n",
            "Requirement already satisfied: PySocks!=1.5.7,>=1.5.6 in /usr/local/lib/python3.10/dist-packages (from requests[socks]->gdown) (1.7.1)\n",
            "Installing collected packages: gdown\n",
            "  Attempting uninstall: gdown\n",
            "    Found existing installation: gdown 4.4.0\n",
            "    Uninstalling gdown-4.4.0:\n",
            "      Successfully uninstalled gdown-4.4.0\n",
            "\u001b[31mERROR: pip's dependency resolver does not currently take into account all the packages that are installed. This behaviour is the source of the following dependency conflicts.\n",
            "vietocr 0.3.13 requires gdown==4.4.0, but you have gdown 5.1.0 which is incompatible.\n",
            "vietocr 0.3.13 requires pillow==10.2.0, but you have pillow 10.3.0 which is incompatible.\u001b[0m\u001b[31m\n",
            "\u001b[0mSuccessfully installed gdown-5.1.0\n"
          ]
        }
      ]
    },
    {
      "cell_type": "code",
      "source": [
        "!gdown 155oYTSo09melE2xZ5yzLLlI8qdoEYGRV"
      ],
      "metadata": {
        "colab": {
          "base_uri": "https://localhost:8080/"
        },
        "id": "fkRasIayB878",
        "outputId": "27648753-1386-46ab-9549-a6e3d4c08078"
      },
      "execution_count": null,
      "outputs": [
        {
          "output_type": "stream",
          "name": "stdout",
          "text": [
            "Downloading...\n",
            "From: https://drive.google.com/uc?id=155oYTSo09melE2xZ5yzLLlI8qdoEYGRV\n",
            "To: /content/pbl_dataset_line1.zip\n",
            "100% 10.2M/10.2M [00:00<00:00, 58.4MB/s]\n"
          ]
        }
      ]
    },
    {
      "cell_type": "code",
      "source": [
        "import os\n",
        "import shutil"
      ],
      "metadata": {
        "id": "8qXbEv89CR_m"
      },
      "execution_count": null,
      "outputs": []
    },
    {
      "cell_type": "markdown",
      "source": [
        "Tạo thư mục data"
      ],
      "metadata": {
        "id": "7_5zJnyHfPp0"
      }
    },
    {
      "cell_type": "code",
      "source": [
        "os.makedirs(\"data\", exist_ok=True)"
      ],
      "metadata": {
        "id": "I8uOhnQSCOvR"
      },
      "execution_count": null,
      "outputs": []
    },
    {
      "cell_type": "markdown",
      "source": [
        "Giải nén pbl_dataset4.zip vào data"
      ],
      "metadata": {
        "id": "MruZeNwMfLfh"
      }
    },
    {
      "cell_type": "code",
      "source": [
        "!unzip pbl_dataset_line1.zip -d data"
      ],
      "metadata": {
        "colab": {
          "base_uri": "https://localhost:8080/"
        },
        "id": "poqFge7MCzsy",
        "outputId": "6eb7f72e-c049-4e50-f704-ecbfd8355686"
      },
      "execution_count": null,
      "outputs": [
        {
          "output_type": "stream",
          "name": "stdout",
          "text": [
            "Archive:  pbl_dataset_line1.zip\n",
            "   creating: data/pbl_dataset_line1/\n",
            "  inflating: data/pbl_dataset_line1/0314_12_1_10.jpg  \n",
            "  inflating: data/pbl_dataset_line1/0314_12_1_11.jpg  \n",
            "  inflating: data/pbl_dataset_line1/0314_12_1_13.jpg  \n",
            "  inflating: data/pbl_dataset_line1/0314_12_1_14.jpg  \n",
            "  inflating: data/pbl_dataset_line1/0314_12_1_15.jpg  \n",
            "  inflating: data/pbl_dataset_line1/0314_12_1_16.jpg  \n",
            "  inflating: data/pbl_dataset_line1/0314_12_1_17.jpg  \n",
            "  inflating: data/pbl_dataset_line1/0314_12_1_19.jpg  \n",
            "  inflating: data/pbl_dataset_line1/0314_12_1_20.jpg  \n",
            "  inflating: data/pbl_dataset_line1/0314_12_1_21.jpg  \n",
            "  inflating: data/pbl_dataset_line1/0314_12_1_22.jpg  \n",
            "  inflating: data/pbl_dataset_line1/0314_12_1_24.jpg  \n",
            "  inflating: data/pbl_dataset_line1/0314_12_1_25.jpg  \n",
            "  inflating: data/pbl_dataset_line1/0314_12_1_26.jpg  \n",
            "  inflating: data/pbl_dataset_line1/0314_12_1_27.jpg  \n",
            "  inflating: data/pbl_dataset_line1/0314_12_1_28.jpg  \n",
            "  inflating: data/pbl_dataset_line1/0314_12_1_5.jpg  \n",
            "  inflating: data/pbl_dataset_line1/0314_12_1_7.jpg  \n",
            "  inflating: data/pbl_dataset_line1/0314_12_1_8.jpg  \n",
            "  inflating: data/pbl_dataset_line1/0314_12_2_0.jpg  \n",
            "  inflating: data/pbl_dataset_line1/0314_12_2_1.jpg  \n",
            "  inflating: data/pbl_dataset_line1/0314_12_2_10.jpg  \n",
            "  inflating: data/pbl_dataset_line1/0314_12_2_11.jpg  \n",
            "  inflating: data/pbl_dataset_line1/0314_12_2_12.jpg  \n",
            "  inflating: data/pbl_dataset_line1/0314_12_2_13.jpg  \n",
            "  inflating: data/pbl_dataset_line1/0314_12_2_14.jpg  \n",
            "  inflating: data/pbl_dataset_line1/0314_12_2_2.jpg  \n",
            "  inflating: data/pbl_dataset_line1/0314_12_2_3.jpg  \n",
            "  inflating: data/pbl_dataset_line1/0314_12_2_4.jpg  \n",
            "  inflating: data/pbl_dataset_line1/0314_12_2_5.jpg  \n",
            "  inflating: data/pbl_dataset_line1/0314_12_2_7.jpg  \n",
            "  inflating: data/pbl_dataset_line1/0314_12_2_8.jpg  \n",
            "  inflating: data/pbl_dataset_line1/0314_12_2_9.jpg  \n",
            "  inflating: data/pbl_dataset_line1/0314_13_1_0.jpg  \n",
            "  inflating: data/pbl_dataset_line1/0314_13_1_1.jpg  \n",
            "  inflating: data/pbl_dataset_line1/0314_13_1_10.jpg  \n",
            "  inflating: data/pbl_dataset_line1/0314_13_1_11.jpg  \n",
            "  inflating: data/pbl_dataset_line1/0314_13_1_2.jpg  \n",
            "  inflating: data/pbl_dataset_line1/0314_13_1_3.jpg  \n",
            "  inflating: data/pbl_dataset_line1/0314_13_1_4.jpg  \n",
            "  inflating: data/pbl_dataset_line1/0314_13_1_5.jpg  \n",
            "  inflating: data/pbl_dataset_line1/0314_13_1_6.jpg  \n",
            "  inflating: data/pbl_dataset_line1/0314_13_1_7.jpg  \n",
            "  inflating: data/pbl_dataset_line1/0314_13_1_8.jpg  \n",
            "  inflating: data/pbl_dataset_line1/0314_13_1_9.jpg  \n",
            "  inflating: data/pbl_dataset_line1/0314_13_2_0.jpg  \n",
            "  inflating: data/pbl_dataset_line1/0314_13_2_1.jpg  \n",
            "  inflating: data/pbl_dataset_line1/0314_13_2_10.jpg  \n",
            "  inflating: data/pbl_dataset_line1/0314_13_2_11.jpg  \n",
            "  inflating: data/pbl_dataset_line1/0314_13_2_12.jpg  \n",
            "  inflating: data/pbl_dataset_line1/0314_13_2_13.jpg  \n",
            "  inflating: data/pbl_dataset_line1/0314_13_2_14.jpg  \n",
            "  inflating: data/pbl_dataset_line1/0314_13_2_15.jpg  \n",
            "  inflating: data/pbl_dataset_line1/0314_13_2_16.jpg  \n",
            "  inflating: data/pbl_dataset_line1/0314_13_2_17.jpg  \n",
            "  inflating: data/pbl_dataset_line1/0314_13_2_18.jpg  \n",
            "  inflating: data/pbl_dataset_line1/0314_13_2_19.jpg  \n",
            "  inflating: data/pbl_dataset_line1/0314_13_2_2.jpg  \n",
            "  inflating: data/pbl_dataset_line1/0314_13_2_20.jpg  \n",
            "  inflating: data/pbl_dataset_line1/0314_13_2_3.jpg  \n",
            "  inflating: data/pbl_dataset_line1/0314_13_2_4.jpg  \n",
            "  inflating: data/pbl_dataset_line1/0314_13_2_5.jpg  \n",
            "  inflating: data/pbl_dataset_line1/0314_13_2_6.jpg  \n",
            "  inflating: data/pbl_dataset_line1/0314_13_2_7.jpg  \n",
            "  inflating: data/pbl_dataset_line1/0314_13_2_8.jpg  \n",
            "  inflating: data/pbl_dataset_line1/0314_13_2_9.jpg  \n",
            "  inflating: data/pbl_dataset_line1/0314_13_3_0.jpg  \n",
            "  inflating: data/pbl_dataset_line1/0314_13_3_1.jpg  \n",
            "  inflating: data/pbl_dataset_line1/0314_13_3_2.jpg  \n",
            "  inflating: data/pbl_dataset_line1/0314_13_3_3.jpg  \n",
            "  inflating: data/pbl_dataset_line1/0314_13_3_4.jpg  \n",
            "  inflating: data/pbl_dataset_line1/0314_13_3_5.jpg  \n",
            "  inflating: data/pbl_dataset_line1/0314_13_3_6.jpg  \n",
            "  inflating: data/pbl_dataset_line1/0314_13_3_7.jpg  \n",
            "  inflating: data/pbl_dataset_line1/0314_13_3_8.jpg  \n",
            "  inflating: data/pbl_dataset_line1/0314_13_3_9.jpg  \n",
            "  inflating: data/pbl_dataset_line1/0314_14_1_10.jpg  \n",
            "  inflating: data/pbl_dataset_line1/0314_14_1_11.jpg  \n",
            "  inflating: data/pbl_dataset_line1/0314_14_1_12.jpg  \n",
            "  inflating: data/pbl_dataset_line1/0314_14_1_13.jpg  \n",
            "  inflating: data/pbl_dataset_line1/0314_14_1_14.jpg  \n",
            "  inflating: data/pbl_dataset_line1/0314_14_1_15.jpg  \n",
            "  inflating: data/pbl_dataset_line1/0314_14_1_16.jpg  \n",
            "  inflating: data/pbl_dataset_line1/0314_14_1_19.jpg  \n",
            "  inflating: data/pbl_dataset_line1/0314_14_1_21.jpg  \n",
            "  inflating: data/pbl_dataset_line1/0314_14_1_22.jpg  \n",
            "  inflating: data/pbl_dataset_line1/0314_14_1_23.jpg  \n",
            "  inflating: data/pbl_dataset_line1/0314_14_1_24.jpg  \n",
            "  inflating: data/pbl_dataset_line1/0314_14_1_25.jpg  \n",
            "  inflating: data/pbl_dataset_line1/0314_14_1_28.jpg  \n",
            "  inflating: data/pbl_dataset_line1/0314_14_1_30.jpg  \n",
            "  inflating: data/pbl_dataset_line1/0314_14_1_31.jpg  \n",
            "  inflating: data/pbl_dataset_line1/0314_14_1_34.jpg  \n",
            "  inflating: data/pbl_dataset_line1/0314_14_1_37.jpg  \n",
            "  inflating: data/pbl_dataset_line1/0314_14_1_38.jpg  \n",
            "  inflating: data/pbl_dataset_line1/0314_14_1_39.jpg  \n",
            "  inflating: data/pbl_dataset_line1/0314_14_1_4.jpg  \n",
            "  inflating: data/pbl_dataset_line1/0314_14_1_41.jpg  \n",
            "  inflating: data/pbl_dataset_line1/0314_14_1_42.jpg  \n",
            "  inflating: data/pbl_dataset_line1/0314_14_1_43.jpg  \n",
            "  inflating: data/pbl_dataset_line1/0314_14_1_44.jpg  \n",
            "  inflating: data/pbl_dataset_line1/0314_14_1_45.jpg  \n",
            "  inflating: data/pbl_dataset_line1/0314_14_1_5.jpg  \n",
            "  inflating: data/pbl_dataset_line1/0314_14_1_6.jpg  \n",
            "  inflating: data/pbl_dataset_line1/0314_14_1_7.jpg  \n",
            "  inflating: data/pbl_dataset_line1/0314_14_1_8.jpg  \n",
            "  inflating: data/pbl_dataset_line1/0314_14_1_9.jpg  \n",
            "  inflating: data/pbl_dataset_line1/0314_14_2_0.jpg  \n",
            "  inflating: data/pbl_dataset_line1/0314_14_2_1.jpg  \n",
            "  inflating: data/pbl_dataset_line1/0314_14_2_10.jpg  \n",
            "  inflating: data/pbl_dataset_line1/0314_14_2_11.jpg  \n",
            "  inflating: data/pbl_dataset_line1/0314_14_2_12.jpg  \n",
            "  inflating: data/pbl_dataset_line1/0314_14_2_13.jpg  \n",
            "  inflating: data/pbl_dataset_line1/0314_14_2_14.jpg  \n",
            "  inflating: data/pbl_dataset_line1/0314_14_2_15.jpg  \n",
            "  inflating: data/pbl_dataset_line1/0314_14_2_16.jpg  \n",
            "  inflating: data/pbl_dataset_line1/0314_14_2_17.jpg  \n",
            "  inflating: data/pbl_dataset_line1/0314_14_2_2.jpg  \n",
            "  inflating: data/pbl_dataset_line1/0314_14_2_5.jpg  \n",
            "  inflating: data/pbl_dataset_line1/0314_14_2_6.jpg  \n",
            "  inflating: data/pbl_dataset_line1/0314_14_2_7.jpg  \n",
            "  inflating: data/pbl_dataset_line1/0314_14_2_8.jpg  \n",
            "  inflating: data/pbl_dataset_line1/0314_14_2_9.jpg  \n",
            "  inflating: data/pbl_dataset_line1/0314_14_3_0.jpg  \n",
            "  inflating: data/pbl_dataset_line1/0314_14_3_1.jpg  \n",
            "  inflating: data/pbl_dataset_line1/0314_14_3_2.jpg  \n",
            "  inflating: data/pbl_dataset_line1/0314_14_3_3.jpg  \n",
            "  inflating: data/pbl_dataset_line1/0314_14_3_4.jpg  \n",
            "  inflating: data/pbl_dataset_line1/0314_14_3_5.jpg  \n",
            "  inflating: data/pbl_dataset_line1/0314_15_0_0.jpg  \n",
            "  inflating: data/pbl_dataset_line1/0314_15_0_1.jpg  \n",
            "  inflating: data/pbl_dataset_line1/0314_15_0_2.jpg  \n",
            "  inflating: data/pbl_dataset_line1/0314_15_0_3.jpg  \n",
            "  inflating: data/pbl_dataset_line1/0314_15_0_4.jpg  \n",
            "  inflating: data/pbl_dataset_line1/0314_15_0_5.jpg  \n",
            "  inflating: data/pbl_dataset_line1/0314_15_0_6.jpg  \n",
            "  inflating: data/pbl_dataset_line1/0314_15_1_1.jpg  \n",
            "  inflating: data/pbl_dataset_line1/0314_15_1_11.jpg  \n",
            "  inflating: data/pbl_dataset_line1/0314_15_1_12.jpg  \n",
            "  inflating: data/pbl_dataset_line1/0314_15_1_13.jpg  \n",
            "  inflating: data/pbl_dataset_line1/0314_15_1_14.jpg  \n",
            "  inflating: data/pbl_dataset_line1/0314_15_1_16.jpg  \n",
            "  inflating: data/pbl_dataset_line1/0314_15_1_18.jpg  \n",
            "  inflating: data/pbl_dataset_line1/0314_15_1_2.jpg  \n",
            "  inflating: data/pbl_dataset_line1/0314_15_1_22.jpg  \n",
            "  inflating: data/pbl_dataset_line1/0314_15_1_4.jpg  \n",
            "  inflating: data/pbl_dataset_line1/0314_15_1_7.jpg  \n",
            "  inflating: data/pbl_dataset_line1/0314_15_1_8.jpg  \n",
            "  inflating: data/pbl_dataset_line1/0314_15_1_9.jpg  \n",
            "  inflating: data/pbl_dataset_line1/0314_15_2_0.jpg  \n",
            "  inflating: data/pbl_dataset_line1/0314_15_2_10.jpg  \n",
            "  inflating: data/pbl_dataset_line1/0314_15_2_12.jpg  \n",
            "  inflating: data/pbl_dataset_line1/0314_15_2_13.jpg  \n",
            "  inflating: data/pbl_dataset_line1/0314_15_2_14.jpg  \n",
            "  inflating: data/pbl_dataset_line1/0314_15_2_15.jpg  \n",
            "  inflating: data/pbl_dataset_line1/0314_15_2_16.jpg  \n",
            "  inflating: data/pbl_dataset_line1/0314_15_2_17.jpg  \n",
            "  inflating: data/pbl_dataset_line1/0314_15_2_18.jpg  \n",
            "  inflating: data/pbl_dataset_line1/0314_15_2_19.jpg  \n",
            "  inflating: data/pbl_dataset_line1/0314_15_2_3.jpg  \n",
            "  inflating: data/pbl_dataset_line1/0314_15_2_7.jpg  \n",
            "  inflating: data/pbl_dataset_line1/0314_15_2_8.jpg  \n",
            "  inflating: data/pbl_dataset_line1/0314_15_2_9.jpg  \n",
            "  inflating: data/pbl_dataset_line1/0314_16_1_0.jpg  \n",
            "  inflating: data/pbl_dataset_line1/0314_16_1_1.jpg  \n",
            "  inflating: data/pbl_dataset_line1/0314_16_1_2.jpg  \n",
            "  inflating: data/pbl_dataset_line1/0314_16_1_3.jpg  \n",
            "  inflating: data/pbl_dataset_line1/0314_16_1_4.jpg  \n",
            "  inflating: data/pbl_dataset_line1/0314_16_2_1.jpg  \n",
            "  inflating: data/pbl_dataset_line1/0314_16_2_10.jpg  \n",
            "  inflating: data/pbl_dataset_line1/0314_16_2_11.jpg  \n",
            "  inflating: data/pbl_dataset_line1/0314_16_2_13.jpg  \n",
            "  inflating: data/pbl_dataset_line1/0314_16_2_14.jpg  \n",
            "  inflating: data/pbl_dataset_line1/0314_16_2_15.jpg  \n",
            "  inflating: data/pbl_dataset_line1/0314_16_2_16.jpg  \n",
            "  inflating: data/pbl_dataset_line1/0314_16_2_17.jpg  \n",
            "  inflating: data/pbl_dataset_line1/0314_16_2_18.jpg  \n",
            "  inflating: data/pbl_dataset_line1/0314_16_2_19.jpg  \n",
            "  inflating: data/pbl_dataset_line1/0314_16_2_20.jpg  \n",
            "  inflating: data/pbl_dataset_line1/0314_16_2_21.jpg  \n",
            "  inflating: data/pbl_dataset_line1/0314_16_2_22.jpg  \n",
            "  inflating: data/pbl_dataset_line1/0314_16_2_23.jpg  \n",
            "  inflating: data/pbl_dataset_line1/0314_16_2_24.jpg  \n",
            "  inflating: data/pbl_dataset_line1/0314_16_2_25.jpg  \n",
            "  inflating: data/pbl_dataset_line1/0314_16_2_26.jpg  \n",
            "  inflating: data/pbl_dataset_line1/0314_16_2_27.jpg  \n",
            "  inflating: data/pbl_dataset_line1/0314_16_2_28.jpg  \n",
            "  inflating: data/pbl_dataset_line1/0314_16_2_29.jpg  \n",
            "  inflating: data/pbl_dataset_line1/0314_16_2_3.jpg  \n",
            "  inflating: data/pbl_dataset_line1/0314_16_2_30.jpg  \n",
            "  inflating: data/pbl_dataset_line1/0314_16_2_31.jpg  \n",
            "  inflating: data/pbl_dataset_line1/0314_16_2_32.jpg  \n",
            "  inflating: data/pbl_dataset_line1/0314_16_2_33.jpg  \n",
            "  inflating: data/pbl_dataset_line1/0314_16_2_34.jpg  \n",
            "  inflating: data/pbl_dataset_line1/0314_16_2_4.jpg  \n",
            "  inflating: data/pbl_dataset_line1/0314_16_2_5.jpg  \n",
            "  inflating: data/pbl_dataset_line1/0314_16_2_6.jpg  \n",
            "  inflating: data/pbl_dataset_line1/0314_16_2_8.jpg  \n",
            "  inflating: data/pbl_dataset_line1/0314_16_2_9.jpg  \n",
            "  inflating: data/pbl_dataset_line1/0314_16_3_0.jpg  \n",
            "  inflating: data/pbl_dataset_line1/0314_16_3_1.jpg  \n",
            "  inflating: data/pbl_dataset_line1/0314_16_3_10.jpg  \n",
            "  inflating: data/pbl_dataset_line1/0314_16_3_12.jpg  \n",
            "  inflating: data/pbl_dataset_line1/0314_16_3_13.jpg  \n",
            "  inflating: data/pbl_dataset_line1/0314_16_3_14.jpg  \n",
            "  inflating: data/pbl_dataset_line1/0314_16_3_15.jpg  \n",
            "  inflating: data/pbl_dataset_line1/0314_16_3_17.jpg  \n",
            "  inflating: data/pbl_dataset_line1/0314_16_3_18.jpg  \n",
            "  inflating: data/pbl_dataset_line1/0314_16_3_2.jpg  \n",
            "  inflating: data/pbl_dataset_line1/0314_16_3_20.jpg  \n",
            "  inflating: data/pbl_dataset_line1/0314_16_3_21.jpg  \n",
            "  inflating: data/pbl_dataset_line1/0314_16_3_23.jpg  \n",
            "  inflating: data/pbl_dataset_line1/0314_16_3_24.jpg  \n",
            "  inflating: data/pbl_dataset_line1/0314_16_3_25.jpg  \n",
            "  inflating: data/pbl_dataset_line1/0314_16_3_26.jpg  \n",
            "  inflating: data/pbl_dataset_line1/0314_16_3_3.jpg  \n",
            "  inflating: data/pbl_dataset_line1/0314_16_3_4.jpg  \n",
            "  inflating: data/pbl_dataset_line1/0314_16_3_5.jpg  \n",
            "  inflating: data/pbl_dataset_line1/0314_16_3_6.jpg  \n",
            "  inflating: data/pbl_dataset_line1/0314_16_3_7.jpg  \n",
            "  inflating: data/pbl_dataset_line1/0314_16_3_9.jpg  \n",
            "  inflating: data/pbl_dataset_line1/0314_17_1_2.jpg  \n",
            "  inflating: data/pbl_dataset_line1/0314_17_1_3.jpg  \n",
            "  inflating: data/pbl_dataset_line1/0314_17_1_4.jpg  \n",
            "  inflating: data/pbl_dataset_line1/0314_17_2_0.jpg  \n",
            "  inflating: data/pbl_dataset_line1/0314_17_2_001.jpg  \n",
            "  inflating: data/pbl_dataset_line1/0314_17_2_1.jpg  \n",
            "  inflating: data/pbl_dataset_line1/0314_17_2_2.jpg  \n",
            "  inflating: data/pbl_dataset_line1/0314_17_2_3.jpg  \n",
            "  inflating: data/pbl_dataset_line1/0314_17_2_4.jpg  \n",
            "  inflating: data/pbl_dataset_line1/0314_17_2_5.jpg  \n",
            "  inflating: data/pbl_dataset_line1/0314_17_3_0.jpg  \n",
            "  inflating: data/pbl_dataset_line1/0314_17_3_1.jpg  \n",
            "  inflating: data/pbl_dataset_line1/0314_17_3_11.jpg  \n",
            "  inflating: data/pbl_dataset_line1/0314_17_3_12.jpg  \n",
            "  inflating: data/pbl_dataset_line1/0314_17_3_13.jpg  \n",
            "  inflating: data/pbl_dataset_line1/0314_17_3_14.jpg  \n",
            "  inflating: data/pbl_dataset_line1/0314_17_3_15.jpg  \n",
            "  inflating: data/pbl_dataset_line1/0314_17_3_16.jpg  \n",
            "  inflating: data/pbl_dataset_line1/0314_17_3_17.jpg  \n",
            "  inflating: data/pbl_dataset_line1/0314_17_3_18.jpg  \n",
            "  inflating: data/pbl_dataset_line1/0314_17_3_19.jpg  \n",
            "  inflating: data/pbl_dataset_line1/0314_17_3_2.jpg  \n",
            "  inflating: data/pbl_dataset_line1/0314_17_3_20.jpg  \n",
            "  inflating: data/pbl_dataset_line1/0314_17_3_21.jpg  \n",
            "  inflating: data/pbl_dataset_line1/0314_17_3_22.jpg  \n",
            "  inflating: data/pbl_dataset_line1/0314_17_3_23.jpg  \n",
            "  inflating: data/pbl_dataset_line1/0314_17_3_3.jpg  \n",
            "  inflating: data/pbl_dataset_line1/0314_17_3_4.jpg  \n",
            "  inflating: data/pbl_dataset_line1/0314_17_3_5.jpg  \n",
            "  inflating: data/pbl_dataset_line1/0314_17_3_6.jpg  \n",
            "  inflating: data/pbl_dataset_line1/0314_17_3_7.jpg  \n",
            "  inflating: data/pbl_dataset_line1/0314_17_3_8.jpg  \n",
            "  inflating: data/pbl_dataset_line1/0314_17_3_9.jpg  \n",
            "  inflating: data/pbl_dataset_line1/0314_17_4_0.jpg  \n",
            "  inflating: data/pbl_dataset_line1/0314_17_4_1.jpg  \n",
            "  inflating: data/pbl_dataset_line1/0314_17_4_2.jpg  \n",
            "  inflating: data/pbl_dataset_line1/0314_17_4_3.jpg  \n",
            "  inflating: data/pbl_dataset_line1/0314_17_4_5.jpg  \n",
            "  inflating: data/pbl_dataset_line1/0314_17_4_6.jpg  \n",
            "  inflating: data/pbl_dataset_line1/0314_18_1_0.jpg  \n",
            "  inflating: data/pbl_dataset_line1/0314_18_1_1.jpg  \n",
            "  inflating: data/pbl_dataset_line1/0314_18_1_10.jpg  \n",
            "  inflating: data/pbl_dataset_line1/0314_18_1_11.jpg  \n",
            "  inflating: data/pbl_dataset_line1/0314_18_1_12.jpg  \n",
            "  inflating: data/pbl_dataset_line1/0314_18_1_13.jpg  \n",
            "  inflating: data/pbl_dataset_line1/0314_18_1_14.jpg  \n",
            "  inflating: data/pbl_dataset_line1/0314_18_1_15.jpg  \n",
            "  inflating: data/pbl_dataset_line1/0314_18_1_16.jpg  \n",
            "  inflating: data/pbl_dataset_line1/0314_18_1_17.jpg  \n",
            "  inflating: data/pbl_dataset_line1/0314_18_1_18.jpg  \n",
            "  inflating: data/pbl_dataset_line1/0314_18_1_19.jpg  \n",
            "  inflating: data/pbl_dataset_line1/0314_18_1_2.jpg  \n",
            "  inflating: data/pbl_dataset_line1/0314_18_1_20.jpg  \n",
            "  inflating: data/pbl_dataset_line1/0314_18_1_23.jpg  \n",
            "  inflating: data/pbl_dataset_line1/0314_18_1_24.jpg  \n",
            "  inflating: data/pbl_dataset_line1/0314_18_1_25.jpg  \n",
            "  inflating: data/pbl_dataset_line1/0314_18_1_26.jpg  \n",
            "  inflating: data/pbl_dataset_line1/0314_18_1_27.jpg  \n",
            "  inflating: data/pbl_dataset_line1/0314_18_1_28.jpg  \n",
            "  inflating: data/pbl_dataset_line1/0314_18_1_29.jpg  \n",
            "  inflating: data/pbl_dataset_line1/0314_18_1_3.jpg  \n",
            "  inflating: data/pbl_dataset_line1/0314_18_1_31.jpg  \n",
            "  inflating: data/pbl_dataset_line1/0314_18_1_4.jpg  \n",
            "  inflating: data/pbl_dataset_line1/0314_18_1_6.jpg  \n",
            "  inflating: data/pbl_dataset_line1/0314_18_1_7.jpg  \n",
            "  inflating: data/pbl_dataset_line1/0314_18_1_8.jpg  \n",
            "  inflating: data/pbl_dataset_line1/0314_18_2_0.jpg  \n",
            "  inflating: data/pbl_dataset_line1/0314_18_2_1.jpg  \n",
            "  inflating: data/pbl_dataset_line1/0314_18_2_10.jpg  \n",
            "  inflating: data/pbl_dataset_line1/0314_18_2_2.jpg  \n",
            "  inflating: data/pbl_dataset_line1/0314_18_2_3.jpg  \n",
            "  inflating: data/pbl_dataset_line1/0314_18_2_4.jpg  \n",
            "  inflating: data/pbl_dataset_line1/0314_18_2_5.jpg  \n",
            "  inflating: data/pbl_dataset_line1/0314_18_2_6.jpg  \n",
            "  inflating: data/pbl_dataset_line1/0314_18_2_7.jpg  \n",
            "  inflating: data/pbl_dataset_line1/0314_18_2_8.jpg  \n",
            "  inflating: data/pbl_dataset_line1/0314_18_2_9.jpg  \n",
            "  inflating: data/pbl_dataset_line1/0314_19_1_0.jpg  \n",
            "  inflating: data/pbl_dataset_line1/0314_19_1_1.jpg  \n",
            "  inflating: data/pbl_dataset_line1/0314_19_1_10.jpg  \n",
            "  inflating: data/pbl_dataset_line1/0314_19_1_11.jpg  \n",
            "  inflating: data/pbl_dataset_line1/0314_19_1_2.jpg  \n",
            "  inflating: data/pbl_dataset_line1/0314_19_1_3.jpg  \n",
            "  inflating: data/pbl_dataset_line1/0314_19_1_4.jpg  \n",
            "  inflating: data/pbl_dataset_line1/0314_19_1_5.jpg  \n",
            "  inflating: data/pbl_dataset_line1/0314_19_1_6.jpg  \n",
            "  inflating: data/pbl_dataset_line1/0314_19_1_7.jpg  \n",
            "  inflating: data/pbl_dataset_line1/0314_19_1_8.jpg  \n",
            "  inflating: data/pbl_dataset_line1/0314_19_1_9.jpg  \n",
            "  inflating: data/pbl_dataset_line1/0314_19_2_0.jpg  \n",
            "  inflating: data/pbl_dataset_line1/0314_19_2_15.jpg  \n",
            "  inflating: data/pbl_dataset_line1/0314_19_2_16.jpg  \n",
            "  inflating: data/pbl_dataset_line1/0314_19_2_20.jpg  \n",
            "  inflating: data/pbl_dataset_line1/0314_19_2_21.jpg  \n",
            "  inflating: data/pbl_dataset_line1/0314_19_2_22.jpg  \n",
            "  inflating: data/pbl_dataset_line1/0314_19_2_23.jpg  \n",
            "  inflating: data/pbl_dataset_line1/0314_19_2_24.jpg  \n",
            "  inflating: data/pbl_dataset_line1/0314_19_2_25.jpg  \n",
            "  inflating: data/pbl_dataset_line1/0314_19_2_26.jpg  \n",
            "  inflating: data/pbl_dataset_line1/0314_19_2_27.jpg  \n",
            "  inflating: data/pbl_dataset_line1/0314_19_2_28.jpg  \n",
            "  inflating: data/pbl_dataset_line1/0314_19_2_29.jpg  \n",
            "  inflating: data/pbl_dataset_line1/0314_19_2_3.jpg  \n",
            "  inflating: data/pbl_dataset_line1/0314_19_2_30.jpg  \n",
            "  inflating: data/pbl_dataset_line1/0314_19_2_31.jpg  \n",
            "  inflating: data/pbl_dataset_line1/0314_19_3_0.jpg  \n",
            "  inflating: data/pbl_dataset_line1/0314_19_3_13.jpg  \n",
            "  inflating: data/pbl_dataset_line1/0314_19_3_16.jpg  \n",
            "  inflating: data/pbl_dataset_line1/0314_19_3_18.jpg  \n",
            "  inflating: data/pbl_dataset_line1/0314_19_3_20.jpg  \n",
            "  inflating: data/pbl_dataset_line1/0314_19_3_21.jpg  \n",
            "  inflating: data/pbl_dataset_line1/0314_19_3_22.jpg  \n",
            "  inflating: data/pbl_dataset_line1/0314_19_3_23.jpg  \n",
            "  inflating: data/pbl_dataset_line1/0314_19_3_24.jpg  \n",
            "  inflating: data/pbl_dataset_line1/0314_19_3_25.jpg  \n",
            "  inflating: data/pbl_dataset_line1/0314_19_3_26.jpg  \n",
            "  inflating: data/pbl_dataset_line1/0314_19_3_27.jpg  \n",
            "  inflating: data/pbl_dataset_line1/0314_19_3_29.jpg  \n",
            "  inflating: data/pbl_dataset_line1/0314_19_3_30.jpg  \n",
            "  inflating: data/pbl_dataset_line1/0314_19_3_31.jpg  \n",
            "  inflating: data/pbl_dataset_line1/0314_19_3_32.jpg  \n",
            "  inflating: data/pbl_dataset_line1/0314_19_3_33.jpg  \n",
            "  inflating: data/pbl_dataset_line1/0314_19_3_34.jpg  \n",
            "  inflating: data/pbl_dataset_line1/0314_19_3_36.jpg  \n",
            "  inflating: data/pbl_dataset_line1/0314_19_3_37.jpg  \n",
            "  inflating: data/pbl_dataset_line1/0314_19_3_38.jpg  \n",
            "  inflating: data/pbl_dataset_line1/0314_19_3_39.jpg  \n",
            "  inflating: data/pbl_dataset_line1/0314_19_3_6.jpg  \n",
            "  inflating: data/pbl_dataset_line1/0314_19_3_7.jpg  \n",
            "  inflating: data/pbl_dataset_line1/0314_19_3_8.jpg  \n",
            "  inflating: data/pbl_dataset_line1/0314_19_3_9.jpg  \n",
            "  inflating: data/pbl_dataset_line1/0314_20_1_29.jpg  \n",
            "  inflating: data/pbl_dataset_line1/0314_20_1_30.jpg  \n",
            "  inflating: data/pbl_dataset_line1/0314_20_2_0.jpg  \n",
            "  inflating: data/pbl_dataset_line1/0314_20_2_1.jpg  \n",
            "  inflating: data/pbl_dataset_line1/0314_20_2_22.jpg  \n",
            "  inflating: data/pbl_dataset_line1/0314_20_2_23.jpg  \n",
            "  inflating: data/pbl_dataset_line1/0314_20_2_24.jpg  \n",
            "  inflating: data/pbl_dataset_line1/0314_20_2_25.jpg  \n",
            "  inflating: data/pbl_dataset_line1/0314_20_2_26.jpg  \n",
            "  inflating: data/pbl_dataset_line1/0314_20_2_27.jpg  \n",
            "  inflating: data/pbl_dataset_line1/0314_20_2_28.jpg  \n",
            "  inflating: data/pbl_dataset_line1/0314_20_2_29.jpg  \n",
            "  inflating: data/pbl_dataset_line1/0314_20_2_30.jpg  \n",
            "  inflating: data/pbl_dataset_line1/0314_20_2_31.jpg  \n",
            "  inflating: data/pbl_dataset_line1/0314_20_2_32.jpg  \n",
            "  inflating: data/pbl_dataset_line1/0314_20_2_34.jpg  \n",
            "  inflating: data/pbl_dataset_line1/0314_20_2_35.jpg  \n",
            "  inflating: data/pbl_dataset_line1/0314_20_2_36.jpg  \n",
            "  inflating: data/pbl_dataset_line1/0314_20_3_0.jpg  \n",
            "  inflating: data/pbl_dataset_line1/0314_20_3_1.jpg  \n",
            "  inflating: data/pbl_dataset_line1/0314_20_3_10.jpg  \n",
            "  inflating: data/pbl_dataset_line1/0314_20_3_13.jpg  \n",
            "  inflating: data/pbl_dataset_line1/0314_20_3_14.jpg  \n",
            "  inflating: data/pbl_dataset_line1/0314_20_3_15.jpg  \n",
            "  inflating: data/pbl_dataset_line1/0314_20_3_16.jpg  \n",
            "  inflating: data/pbl_dataset_line1/0314_20_3_2.jpg  \n",
            "  inflating: data/pbl_dataset_line1/0314_20_3_3.jpg  \n",
            "  inflating: data/pbl_dataset_line1/0314_20_3_5.jpg  \n",
            "  inflating: data/pbl_dataset_line1/0314_20_3_7.jpg  \n",
            "  inflating: data/pbl_dataset_line1/0314_20_3_8.jpg  \n",
            "  inflating: data/pbl_dataset_line1/0314_20_3_9.jpg  \n",
            "  inflating: data/pbl_dataset_line1/0314_20_4_0.jpg  \n",
            "  inflating: data/pbl_dataset_line1/0314_20_4_1.jpg  \n",
            "  inflating: data/pbl_dataset_line1/0314_20_4_10.jpg  \n",
            "  inflating: data/pbl_dataset_line1/0314_20_4_2.jpg  \n",
            "  inflating: data/pbl_dataset_line1/0314_20_4_4.jpg  \n",
            "  inflating: data/pbl_dataset_line1/0314_20_4_5.jpg  \n",
            "  inflating: data/pbl_dataset_line1/0314_20_4_6.jpg  \n",
            "  inflating: data/pbl_dataset_line1/0314_20_4_7.jpg  \n",
            "  inflating: data/pbl_dataset_line1/0314_20_4_8.jpg  \n",
            "  inflating: data/pbl_dataset_line1/0314_20_4_9.jpg  \n",
            "  inflating: data/pbl_dataset_line1/0314_21_1_0.jpg  \n",
            "  inflating: data/pbl_dataset_line1/0314_21_1_1.jpg  \n",
            "  inflating: data/pbl_dataset_line1/0314_21_1_2.jpg  \n",
            "  inflating: data/pbl_dataset_line1/0314_21_1_3.jpg  \n",
            "  inflating: data/pbl_dataset_line1/0314_21_1_4.jpg  \n",
            "  inflating: data/pbl_dataset_line1/0314_21_1_5.jpg  \n",
            "  inflating: data/pbl_dataset_line1/0314_21_1_6.jpg  \n",
            "  inflating: data/pbl_dataset_line1/0314_21_1_7.jpg  \n",
            "  inflating: data/pbl_dataset_line1/0314_21_2_0.jpg  \n",
            "  inflating: data/pbl_dataset_line1/0314_21_2_1.jpg  \n",
            "  inflating: data/pbl_dataset_line1/0314_21_2_2.jpg  \n",
            "  inflating: data/pbl_dataset_line1/0314_21_2_3.jpg  \n",
            "  inflating: data/pbl_dataset_line1/0314_21_2_4.jpg  \n",
            "  inflating: data/pbl_dataset_line1/0314_21_2_5.jpg  \n",
            "  inflating: data/pbl_dataset_line1/0314_21_2_6.jpg  \n",
            "  inflating: data/pbl_dataset_line1/0314_21_2_7.jpg  \n",
            "  inflating: data/pbl_dataset_line1/0314_21_2_8.jpg  \n",
            "  inflating: data/pbl_dataset_line1/0314_21_3_0.jpg  \n",
            "  inflating: data/pbl_dataset_line1/0314_21_3_1.jpg  \n",
            "  inflating: data/pbl_dataset_line1/0314_21_3_10.jpg  \n",
            "  inflating: data/pbl_dataset_line1/0314_21_3_100.jpg  \n",
            "  inflating: data/pbl_dataset_line1/0314_21_3_106.jpg  \n",
            "  inflating: data/pbl_dataset_line1/0314_21_3_107.jpg  \n",
            "  inflating: data/pbl_dataset_line1/0314_21_3_108.jpg  \n",
            "  inflating: data/pbl_dataset_line1/0314_21_3_11.jpg  \n",
            "  inflating: data/pbl_dataset_line1/0314_21_3_110.jpg  \n",
            "  inflating: data/pbl_dataset_line1/0314_21_3_112.jpg  \n",
            "  inflating: data/pbl_dataset_line1/0314_21_3_12.jpg  \n",
            "  inflating: data/pbl_dataset_line1/0314_21_3_13.jpg  \n",
            "  inflating: data/pbl_dataset_line1/0314_21_3_14.jpg  \n",
            "  inflating: data/pbl_dataset_line1/0314_21_3_15.jpg  \n",
            "  inflating: data/pbl_dataset_line1/0314_21_3_16.jpg  \n",
            "  inflating: data/pbl_dataset_line1/0314_21_3_17.jpg  \n",
            "  inflating: data/pbl_dataset_line1/0314_21_3_18.jpg  \n",
            "  inflating: data/pbl_dataset_line1/0314_21_3_19.jpg  \n",
            "  inflating: data/pbl_dataset_line1/0314_21_3_2.jpg  \n",
            "  inflating: data/pbl_dataset_line1/0314_21_3_21.jpg  \n",
            "  inflating: data/pbl_dataset_line1/0314_21_3_22.jpg  \n",
            "  inflating: data/pbl_dataset_line1/0314_21_3_25.jpg  \n",
            "  inflating: data/pbl_dataset_line1/0314_21_3_28.jpg  \n",
            "  inflating: data/pbl_dataset_line1/0314_21_3_29.jpg  \n",
            "  inflating: data/pbl_dataset_line1/0314_21_3_3.jpg  \n",
            "  inflating: data/pbl_dataset_line1/0314_21_3_30.jpg  \n",
            "  inflating: data/pbl_dataset_line1/0314_21_3_31.jpg  \n",
            "  inflating: data/pbl_dataset_line1/0314_21_3_32.jpg  \n",
            "  inflating: data/pbl_dataset_line1/0314_21_3_33.jpg  \n",
            "  inflating: data/pbl_dataset_line1/0314_21_3_36.jpg  \n",
            "  inflating: data/pbl_dataset_line1/0314_21_3_4.jpg  \n",
            "  inflating: data/pbl_dataset_line1/0314_21_3_43.jpg  \n",
            "  inflating: data/pbl_dataset_line1/0314_21_3_46.jpg  \n",
            "  inflating: data/pbl_dataset_line1/0314_21_3_47.jpg  \n",
            "  inflating: data/pbl_dataset_line1/0314_21_3_48.jpg  \n",
            "  inflating: data/pbl_dataset_line1/0314_21_3_49.jpg  \n",
            "  inflating: data/pbl_dataset_line1/0314_21_3_5.jpg  \n",
            "  inflating: data/pbl_dataset_line1/0314_21_3_51.jpg  \n",
            "  inflating: data/pbl_dataset_line1/0314_21_3_53.jpg  \n",
            "  inflating: data/pbl_dataset_line1/0314_21_3_54.jpg  \n",
            "  inflating: data/pbl_dataset_line1/0314_21_3_56.jpg  \n",
            "  inflating: data/pbl_dataset_line1/0314_21_3_57.jpg  \n",
            "  inflating: data/pbl_dataset_line1/0314_21_3_58.jpg  \n",
            "  inflating: data/pbl_dataset_line1/0314_21_3_59.jpg  \n",
            "  inflating: data/pbl_dataset_line1/0314_21_3_6.jpg  \n",
            "  inflating: data/pbl_dataset_line1/0314_21_3_63.jpg  \n",
            "  inflating: data/pbl_dataset_line1/0314_21_3_64.jpg  \n",
            "  inflating: data/pbl_dataset_line1/0314_21_3_65.jpg  \n",
            "  inflating: data/pbl_dataset_line1/0314_21_3_69.jpg  \n",
            "  inflating: data/pbl_dataset_line1/0314_21_3_7.jpg  \n",
            "  inflating: data/pbl_dataset_line1/0314_21_3_70.jpg  \n",
            "  inflating: data/pbl_dataset_line1/0314_21_3_8.jpg  \n",
            "  inflating: data/pbl_dataset_line1/0314_21_3_81.jpg  \n",
            "  inflating: data/pbl_dataset_line1/0314_21_3_84.jpg  \n",
            "  inflating: data/pbl_dataset_line1/0314_21_3_9.jpg  \n",
            "  inflating: data/pbl_dataset_line1/0314_21_3_95.jpg  \n",
            "  inflating: data/pbl_dataset_line1/0314_21_3_97.jpg  \n",
            "  inflating: data/pbl_dataset_line1/0314_21_3_98.jpg  \n",
            "  inflating: data/pbl_dataset_line1/0314_22_1_17.jpg  \n",
            "  inflating: data/pbl_dataset_line1/0314_22_1_18.jpg  \n",
            "  inflating: data/pbl_dataset_line1/0314_22_1_19.jpg  \n",
            "  inflating: data/pbl_dataset_line1/0314_22_1_20.jpg  \n",
            "  inflating: data/pbl_dataset_line1/0314_22_1_21.jpg  \n",
            "  inflating: data/pbl_dataset_line1/0314_22_1_22.jpg  \n",
            "  inflating: data/pbl_dataset_line1/0314_22_1_23.jpg  \n",
            "  inflating: data/pbl_dataset_line1/0314_22_1_24.jpg  \n",
            "  inflating: data/pbl_dataset_line1/0314_22_1_25.jpg  \n",
            "  inflating: data/pbl_dataset_line1/0314_22_1_26.jpg  \n",
            "  inflating: data/pbl_dataset_line1/0314_22_1_27.jpg  \n",
            "  inflating: data/pbl_dataset_line1/0314_22_2_17.jpg  \n",
            "  inflating: data/pbl_dataset_line1/0314_22_2_18.jpg  \n",
            "  inflating: data/pbl_dataset_line1/0314_22_2_19.jpg  \n",
            "  inflating: data/pbl_dataset_line1/0314_22_2_20.jpg  \n",
            "  inflating: data/pbl_dataset_line1/0314_22_2_21.jpg  \n",
            "  inflating: data/pbl_dataset_line1/0314_22_2_22.jpg  \n",
            "  inflating: data/pbl_dataset_line1/0314_22_2_23.jpg  \n",
            "  inflating: data/pbl_dataset_line1/0314_22_2_24.jpg  \n",
            "  inflating: data/pbl_dataset_line1/0314_22_2_25.jpg  \n",
            "  inflating: data/pbl_dataset_line1/0314_22_2_26.jpg  \n",
            "  inflating: data/pbl_dataset_line1/0314_22_2_27.jpg  \n",
            "  inflating: data/pbl_dataset_line1/0314_22_2_28.jpg  \n",
            "  inflating: data/pbl_dataset_line1/0314_22_2_29.jpg  \n",
            "  inflating: data/pbl_dataset_line1/0314_22_2_30.jpg  \n",
            "  inflating: data/pbl_dataset_line1/0314_22_3_0.jpg  \n",
            "  inflating: data/pbl_dataset_line1/0314_22_3_10.jpg  \n",
            "  inflating: data/pbl_dataset_line1/0314_22_3_11.jpg  \n",
            "  inflating: data/pbl_dataset_line1/0314_22_3_12.jpg  \n",
            "  inflating: data/pbl_dataset_line1/0314_22_3_15.jpg  \n",
            "  inflating: data/pbl_dataset_line1/0314_22_3_16.jpg  \n",
            "  inflating: data/pbl_dataset_line1/0314_22_3_17.jpg  \n",
            "  inflating: data/pbl_dataset_line1/0314_22_3_18.jpg  \n",
            "  inflating: data/pbl_dataset_line1/0314_22_3_19.jpg  \n",
            "  inflating: data/pbl_dataset_line1/0314_22_3_2.jpg  \n",
            "  inflating: data/pbl_dataset_line1/0314_22_3_20.jpg  \n",
            "  inflating: data/pbl_dataset_line1/0314_22_3_21.jpg  \n",
            "  inflating: data/pbl_dataset_line1/0314_22_3_22.jpg  \n",
            "  inflating: data/pbl_dataset_line1/0314_22_3_23.jpg  \n",
            "  inflating: data/pbl_dataset_line1/0314_22_3_24.jpg  \n",
            "  inflating: data/pbl_dataset_line1/0314_22_3_25.jpg  \n",
            "  inflating: data/pbl_dataset_line1/0314_22_3_26.jpg  \n",
            "  inflating: data/pbl_dataset_line1/0314_22_3_3.jpg  \n",
            "  inflating: data/pbl_dataset_line1/0314_22_3_5.jpg  \n",
            "  inflating: data/pbl_dataset_line1/0314_22_3_6.jpg  \n",
            "  inflating: data/pbl_dataset_line1/0314_22_3_7.jpg  \n",
            "  inflating: data/pbl_dataset_line1/0314_22_3_8.jpg  \n",
            "  inflating: data/pbl_dataset_line1/0314_23_1_1.jpg  \n",
            "  inflating: data/pbl_dataset_line1/0314_23_1_10.jpg  \n",
            "  inflating: data/pbl_dataset_line1/0314_23_1_11.jpg  \n",
            "  inflating: data/pbl_dataset_line1/0314_23_1_12.jpg  \n",
            "  inflating: data/pbl_dataset_line1/0314_23_1_13.jpg  \n",
            "  inflating: data/pbl_dataset_line1/0314_23_1_14.jpg  \n",
            "  inflating: data/pbl_dataset_line1/0314_23_1_3.jpg  \n",
            "  inflating: data/pbl_dataset_line1/0314_23_1_4.jpg  \n",
            "  inflating: data/pbl_dataset_line1/0314_23_1_5.jpg  \n",
            "  inflating: data/pbl_dataset_line1/0314_23_1_6.jpg  \n",
            "  inflating: data/pbl_dataset_line1/0314_23_1_7.jpg  \n",
            "  inflating: data/pbl_dataset_line1/0314_23_1_8.jpg  \n",
            "  inflating: data/pbl_dataset_line1/0314_23_1_9.jpg  \n",
            "  inflating: data/pbl_dataset_line1/0314_23_2_0.jpg  \n",
            "  inflating: data/pbl_dataset_line1/0314_23_2_1.jpg  \n",
            "  inflating: data/pbl_dataset_line1/0314_23_2_10.jpg  \n",
            "  inflating: data/pbl_dataset_line1/0314_23_2_11.jpg  \n",
            "  inflating: data/pbl_dataset_line1/0314_23_2_12.jpg  \n",
            "  inflating: data/pbl_dataset_line1/0314_23_2_13.jpg  \n",
            "  inflating: data/pbl_dataset_line1/0314_23_2_2.jpg  \n",
            "  inflating: data/pbl_dataset_line1/0314_23_2_3.jpg  \n",
            "  inflating: data/pbl_dataset_line1/0314_23_2_4.jpg  \n",
            "  inflating: data/pbl_dataset_line1/0314_23_2_5.jpg  \n",
            "  inflating: data/pbl_dataset_line1/0314_23_2_7.jpg  \n",
            "  inflating: data/pbl_dataset_line1/0314_23_2_8.jpg  \n",
            "  inflating: data/pbl_dataset_line1/0314_23_2_9.jpg  \n",
            "  inflating: data/pbl_dataset_line1/0314_23_3_10.jpg  \n",
            "  inflating: data/pbl_dataset_line1/0314_23_3_102.jpg  \n",
            "  inflating: data/pbl_dataset_line1/0314_23_3_103.jpg  \n",
            "  inflating: data/pbl_dataset_line1/0314_23_3_104.jpg  \n",
            "  inflating: data/pbl_dataset_line1/0314_23_3_105.jpg  \n",
            "  inflating: data/pbl_dataset_line1/0314_23_3_106.jpg  \n",
            "  inflating: data/pbl_dataset_line1/0314_23_3_37.jpg  \n",
            "  inflating: data/pbl_dataset_line1/0314_23_3_38.jpg  \n",
            "  inflating: data/pbl_dataset_line1/0314_23_3_41.jpg  \n",
            "  inflating: data/pbl_dataset_line1/0314_23_3_42.jpg  \n",
            "  inflating: data/pbl_dataset_line1/0314_23_3_43.jpg  \n",
            "  inflating: data/pbl_dataset_line1/0314_23_3_53.jpg  \n",
            "  inflating: data/pbl_dataset_line1/0314_23_3_54.jpg  \n",
            "  inflating: data/pbl_dataset_line1/0314_23_3_55.jpg  \n",
            "  inflating: data/pbl_dataset_line1/0314_23_3_57.jpg  \n",
            "  inflating: data/pbl_dataset_line1/0314_23_3_58.jpg  \n",
            "  inflating: data/pbl_dataset_line1/0314_23_3_59.jpg  \n",
            "  inflating: data/pbl_dataset_line1/0314_23_3_60.jpg  \n",
            "  inflating: data/pbl_dataset_line1/0314_23_3_61.jpg  \n",
            "  inflating: data/pbl_dataset_line1/0314_23_3_66.jpg  \n",
            "  inflating: data/pbl_dataset_line1/0314_23_3_68.jpg  \n",
            "  inflating: data/pbl_dataset_line1/0314_23_3_69.jpg  \n",
            "  inflating: data/pbl_dataset_line1/0314_23_3_70.jpg  \n",
            "  inflating: data/pbl_dataset_line1/0314_23_3_78.jpg  \n",
            "  inflating: data/pbl_dataset_line1/0314_23_3_79.jpg  \n",
            "  inflating: data/pbl_dataset_line1/0314_23_3_81.jpg  \n",
            "  inflating: data/pbl_dataset_line1/0314_23_3_83.jpg  \n",
            "  inflating: data/pbl_dataset_line1/0314_23_3_88.jpg  \n",
            "  inflating: data/pbl_dataset_line1/0314_23_3_89.jpg  \n",
            "  inflating: data/pbl_dataset_line1/0314_23_3_9.jpg  \n",
            "  inflating: data/pbl_dataset_line1/0314_23_3_92.jpg  \n",
            "  inflating: data/pbl_dataset_line1/0314_23_3_94.jpg  \n",
            "  inflating: data/pbl_dataset_line1/0314_23_3_97.jpg  \n",
            "  inflating: data/pbl_dataset_line1/0314_23_3_98.jpg  \n",
            "  inflating: data/pbl_dataset_line1/0314_23_3_99.jpg  \n",
            "  inflating: data/pbl_dataset_line1/0314_24_1_61.jpg  \n",
            "  inflating: data/pbl_dataset_line1/0314_24_1_73.jpg  \n",
            "  inflating: data/pbl_dataset_line1/0314_24_1_75.jpg  \n",
            "  inflating: data/pbl_dataset_line1/0314_24_1_76.jpg  \n",
            "  inflating: data/pbl_dataset_line1/0314_24_1_77.jpg  \n",
            "  inflating: data/pbl_dataset_line1/0314_24_1_78.jpg  \n",
            "  inflating: data/pbl_dataset_line1/0314_24_1_79.jpg  \n",
            "  inflating: data/pbl_dataset_line1/0314_24_1_80.jpg  \n",
            "  inflating: data/pbl_dataset_line1/0314_24_1_81.jpg  \n",
            "  inflating: data/pbl_dataset_line1/0314_24_1_82.jpg  \n",
            "  inflating: data/pbl_dataset_line1/0314_24_1_83.jpg  \n",
            "  inflating: data/pbl_dataset_line1/0314_24_2_0.jpg  \n",
            "  inflating: data/pbl_dataset_line1/0314_24_2_1.jpg  \n",
            "  inflating: data/pbl_dataset_line1/0314_24_2_10.jpg  \n",
            "  inflating: data/pbl_dataset_line1/0314_24_2_11.jpg  \n",
            "  inflating: data/pbl_dataset_line1/0314_24_2_12.jpg  \n",
            "  inflating: data/pbl_dataset_line1/0314_24_2_2.jpg  \n",
            "  inflating: data/pbl_dataset_line1/0314_24_2_3.jpg  \n",
            "  inflating: data/pbl_dataset_line1/0314_24_2_4.jpg  \n",
            "  inflating: data/pbl_dataset_line1/0314_24_2_5.jpg  \n",
            "  inflating: data/pbl_dataset_line1/0314_24_2_6.jpg  \n",
            "  inflating: data/pbl_dataset_line1/0314_24_2_7.jpg  \n",
            "  inflating: data/pbl_dataset_line1/0314_24_2_8.jpg  \n",
            "  inflating: data/pbl_dataset_line1/0314_24_2_9.jpg  \n",
            "  inflating: data/pbl_dataset_line1/0314_24_3_0.jpg  \n",
            "  inflating: data/pbl_dataset_line1/0314_24_3_1.jpg  \n",
            "  inflating: data/pbl_dataset_line1/0314_24_3_10.jpg  \n",
            "  inflating: data/pbl_dataset_line1/0314_24_3_11.jpg  \n",
            "  inflating: data/pbl_dataset_line1/0314_24_3_12.jpg  \n",
            "  inflating: data/pbl_dataset_line1/0314_24_3_13.jpg  \n",
            "  inflating: data/pbl_dataset_line1/0314_24_3_14.jpg  \n",
            "  inflating: data/pbl_dataset_line1/0314_24_3_15.jpg  \n",
            "  inflating: data/pbl_dataset_line1/0314_24_3_16.jpg  \n",
            "  inflating: data/pbl_dataset_line1/0314_24_3_17.jpg  \n",
            "  inflating: data/pbl_dataset_line1/0314_24_3_18.jpg  \n",
            "  inflating: data/pbl_dataset_line1/0314_24_3_19.jpg  \n",
            "  inflating: data/pbl_dataset_line1/0314_24_3_2.jpg  \n",
            "  inflating: data/pbl_dataset_line1/0314_24_3_20.jpg  \n",
            "  inflating: data/pbl_dataset_line1/0314_24_3_21.jpg  \n",
            "  inflating: data/pbl_dataset_line1/0314_24_3_3.jpg  \n",
            "  inflating: data/pbl_dataset_line1/0314_24_3_4.jpg  \n",
            "  inflating: data/pbl_dataset_line1/0314_24_3_5.jpg  \n",
            "  inflating: data/pbl_dataset_line1/0314_24_3_6.jpg  \n",
            "  inflating: data/pbl_dataset_line1/0314_24_3_7.jpg  \n",
            "  inflating: data/pbl_dataset_line1/0314_24_3_8.jpg  \n",
            "  inflating: data/pbl_dataset_line1/0314_24_3_9.jpg  \n",
            "  inflating: data/pbl_dataset_line1/0314_25_1_0.jpg  \n",
            "  inflating: data/pbl_dataset_line1/0314_25_1_1.jpg  \n",
            "  inflating: data/pbl_dataset_line1/0314_25_1_10.jpg  \n",
            "  inflating: data/pbl_dataset_line1/0314_25_1_2.jpg  \n",
            "  inflating: data/pbl_dataset_line1/0314_25_1_3.jpg  \n",
            "  inflating: data/pbl_dataset_line1/0314_25_1_4.jpg  \n",
            "  inflating: data/pbl_dataset_line1/0314_25_1_5.jpg  \n",
            "  inflating: data/pbl_dataset_line1/0314_25_1_6.jpg  \n",
            "  inflating: data/pbl_dataset_line1/0314_25_1_8.jpg  \n",
            "  inflating: data/pbl_dataset_line1/0314_25_1_9.jpg  \n",
            "  inflating: data/pbl_dataset_line1/0314_25_2_0.jpg  \n",
            "  inflating: data/pbl_dataset_line1/0314_25_2_1.jpg  \n",
            "  inflating: data/pbl_dataset_line1/0314_25_2_10.jpg  \n",
            "  inflating: data/pbl_dataset_line1/0314_25_2_11.jpg  \n",
            "  inflating: data/pbl_dataset_line1/0314_25_2_12.jpg  \n",
            "  inflating: data/pbl_dataset_line1/0314_25_2_13.jpg  \n",
            "  inflating: data/pbl_dataset_line1/0314_25_2_14.jpg  \n",
            "  inflating: data/pbl_dataset_line1/0314_25_2_15.jpg  \n",
            "  inflating: data/pbl_dataset_line1/0314_25_2_17.jpg  \n",
            "  inflating: data/pbl_dataset_line1/0314_25_2_2.jpg  \n",
            "  inflating: data/pbl_dataset_line1/0314_25_2_21.jpg  \n",
            "  inflating: data/pbl_dataset_line1/0314_25_2_23.jpg  \n",
            "  inflating: data/pbl_dataset_line1/0314_25_2_24.jpg  \n",
            "  inflating: data/pbl_dataset_line1/0314_25_2_25.jpg  \n",
            "  inflating: data/pbl_dataset_line1/0314_25_2_3.jpg  \n",
            "  inflating: data/pbl_dataset_line1/0314_25_2_4.jpg  \n",
            "  inflating: data/pbl_dataset_line1/0314_25_2_5.jpg  \n",
            "  inflating: data/pbl_dataset_line1/0314_25_2_6.jpg  \n",
            "  inflating: data/pbl_dataset_line1/0314_25_2_7.jpg  \n",
            "  inflating: data/pbl_dataset_line1/0314_25_2_8.jpg  \n",
            "  inflating: data/pbl_dataset_line1/0314_25_2_9.jpg  \n",
            "  inflating: data/pbl_dataset_line1/0314_25_3_0.jpg  \n",
            "  inflating: data/pbl_dataset_line1/0314_25_3_1.jpg  \n",
            "  inflating: data/pbl_dataset_line1/0314_25_3_10.jpg  \n",
            "  inflating: data/pbl_dataset_line1/0314_25_3_11.jpg  \n",
            "  inflating: data/pbl_dataset_line1/0314_25_3_12.jpg  \n",
            "  inflating: data/pbl_dataset_line1/0314_25_3_13.jpg  \n",
            "  inflating: data/pbl_dataset_line1/0314_25_3_14.jpg  \n",
            "  inflating: data/pbl_dataset_line1/0314_25_3_15.jpg  \n",
            "  inflating: data/pbl_dataset_line1/0314_25_3_16.jpg  \n",
            "  inflating: data/pbl_dataset_line1/0314_25_3_17.jpg  \n",
            "  inflating: data/pbl_dataset_line1/0314_25_3_18.jpg  \n",
            "  inflating: data/pbl_dataset_line1/0314_25_3_19.jpg  \n",
            "  inflating: data/pbl_dataset_line1/0314_25_3_2.jpg  \n",
            "  inflating: data/pbl_dataset_line1/0314_25_3_20.jpg  \n",
            "  inflating: data/pbl_dataset_line1/0314_25_3_21.jpg  \n",
            "  inflating: data/pbl_dataset_line1/0314_25_3_22.jpg  \n",
            "  inflating: data/pbl_dataset_line1/0314_25_3_23.jpg  \n",
            "  inflating: data/pbl_dataset_line1/0314_25_3_24.jpg  \n",
            "  inflating: data/pbl_dataset_line1/0314_25_3_25.jpg  \n",
            "  inflating: data/pbl_dataset_line1/0314_25_3_26.jpg  \n",
            "  inflating: data/pbl_dataset_line1/0314_25_3_27.jpg  \n",
            "  inflating: data/pbl_dataset_line1/0314_25_3_28.jpg  \n",
            "  inflating: data/pbl_dataset_line1/0314_25_3_29.jpg  \n",
            "  inflating: data/pbl_dataset_line1/0314_25_3_3.jpg  \n",
            "  inflating: data/pbl_dataset_line1/0314_25_3_30.jpg  \n",
            "  inflating: data/pbl_dataset_line1/0314_25_3_31.jpg  \n",
            "  inflating: data/pbl_dataset_line1/0314_25_3_32.jpg  \n",
            "  inflating: data/pbl_dataset_line1/0314_25_3_33.jpg  \n",
            "  inflating: data/pbl_dataset_line1/0314_25_3_34.jpg  \n",
            "  inflating: data/pbl_dataset_line1/0314_25_3_4.jpg  \n",
            "  inflating: data/pbl_dataset_line1/0314_25_3_5.jpg  \n",
            "  inflating: data/pbl_dataset_line1/0314_25_3_6.jpg  \n",
            "  inflating: data/pbl_dataset_line1/0314_25_3_7.jpg  \n",
            "  inflating: data/pbl_dataset_line1/0314_25_3_8.jpg  \n",
            "  inflating: data/pbl_dataset_line1/0314_25_3_9.jpg  \n",
            "  inflating: data/pbl_dataset_line1/0314_27_1_0.jpg  \n",
            "  inflating: data/pbl_dataset_line1/0314_27_1_1.jpg  \n",
            "  inflating: data/pbl_dataset_line1/0314_27_1_10.jpg  \n",
            "  inflating: data/pbl_dataset_line1/0314_27_1_11.jpg  \n",
            "  inflating: data/pbl_dataset_line1/0314_27_1_12.jpg  \n",
            "  inflating: data/pbl_dataset_line1/0314_27_1_13.jpg  \n",
            "  inflating: data/pbl_dataset_line1/0314_27_1_14.jpg  \n",
            "  inflating: data/pbl_dataset_line1/0314_27_1_15.jpg  \n",
            "  inflating: data/pbl_dataset_line1/0314_27_1_2.jpg  \n",
            "  inflating: data/pbl_dataset_line1/0314_27_1_3.jpg  \n",
            "  inflating: data/pbl_dataset_line1/0314_27_1_4.jpg  \n",
            "  inflating: data/pbl_dataset_line1/0314_27_1_5.jpg  \n",
            "  inflating: data/pbl_dataset_line1/0314_27_1_6.jpg  \n",
            "  inflating: data/pbl_dataset_line1/0314_27_1_7.jpg  \n",
            "  inflating: data/pbl_dataset_line1/0314_27_1_8.jpg  \n",
            "  inflating: data/pbl_dataset_line1/0314_27_1_9.jpg  \n",
            "  inflating: data/pbl_dataset_line1/0314_27_2_0.jpg  \n",
            "  inflating: data/pbl_dataset_line1/0314_27_2_1.jpg  \n",
            "  inflating: data/pbl_dataset_line1/0314_27_2_2.jpg  \n",
            "  inflating: data/pbl_dataset_line1/0314_27_2_3.jpg  \n",
            "  inflating: data/pbl_dataset_line1/0314_27_2_4.jpg  \n",
            "  inflating: data/pbl_dataset_line1/0314_27_2_5.jpg  \n",
            "  inflating: data/pbl_dataset_line1/0314_27_2_6.jpg  \n",
            "  inflating: data/pbl_dataset_line1/0314_27_2_7.jpg  \n",
            "  inflating: data/pbl_dataset_line1/0314_27_4_0.jpg  \n",
            "  inflating: data/pbl_dataset_line1/0314_27_4_2.jpg  \n",
            "  inflating: data/pbl_dataset_line1/0314_27_4_3.jpg  \n",
            "  inflating: data/pbl_dataset_line1/0314_27_4_4.jpg  \n",
            "  inflating: data/pbl_dataset_line1/0314_27_4_5.jpg  \n",
            "  inflating: data/pbl_dataset_line1/0314_27_4_6.jpg  \n",
            "  inflating: data/pbl_dataset_line1/0314_27_4_7.jpg  \n",
            "  inflating: data/pbl_dataset_line1/0314_27_4_8.jpg  \n",
            "  inflating: data/pbl_dataset_line1/0314_27_4_9.jpg  \n",
            "  inflating: data/pbl_dataset_line1/0314_28_1_0.jpg  \n",
            "  inflating: data/pbl_dataset_line1/0314_28_1_1.jpg  \n",
            "  inflating: data/pbl_dataset_line1/0314_28_1_2.jpg  \n",
            "  inflating: data/pbl_dataset_line1/0314_28_1_3.jpg  \n",
            "  inflating: data/pbl_dataset_line1/0314_28_1_4.jpg  \n",
            "  inflating: data/pbl_dataset_line1/0314_28_1_5.jpg  \n",
            "  inflating: data/pbl_dataset_line1/0314_28_1_6.jpg  \n",
            "  inflating: data/pbl_dataset_line1/0314_28_1_7.jpg  \n",
            "  inflating: data/pbl_dataset_line1/0314_28_1_8.jpg  \n",
            "  inflating: data/pbl_dataset_line1/0314_28_1_9.jpg  \n",
            "  inflating: data/pbl_dataset_line1/0314_28_2_0.jpg  \n",
            "  inflating: data/pbl_dataset_line1/0314_28_2_1.jpg  \n",
            "  inflating: data/pbl_dataset_line1/0314_28_2_10.jpg  \n",
            "  inflating: data/pbl_dataset_line1/0314_28_2_11.jpg  \n",
            "  inflating: data/pbl_dataset_line1/0314_28_2_12.jpg  \n",
            "  inflating: data/pbl_dataset_line1/0314_28_2_13.jpg  \n",
            "  inflating: data/pbl_dataset_line1/0314_28_2_14.jpg  \n",
            "  inflating: data/pbl_dataset_line1/0314_28_2_15.jpg  \n",
            "  inflating: data/pbl_dataset_line1/0314_28_2_16.jpg  \n",
            "  inflating: data/pbl_dataset_line1/0314_28_2_17.jpg  \n",
            "  inflating: data/pbl_dataset_line1/0314_28_2_18.jpg  \n",
            "  inflating: data/pbl_dataset_line1/0314_28_2_19.jpg  \n",
            "  inflating: data/pbl_dataset_line1/0314_28_2_2.jpg  \n",
            "  inflating: data/pbl_dataset_line1/0314_28_2_20.jpg  \n",
            "  inflating: data/pbl_dataset_line1/0314_28_2_21.jpg  \n",
            "  inflating: data/pbl_dataset_line1/0314_28_2_22.jpg  \n",
            "  inflating: data/pbl_dataset_line1/0314_28_2_23.jpg  \n",
            "  inflating: data/pbl_dataset_line1/0314_28_2_24.jpg  \n",
            "  inflating: data/pbl_dataset_line1/0314_28_2_25.jpg  \n",
            "  inflating: data/pbl_dataset_line1/0314_28_2_26.jpg  \n",
            "  inflating: data/pbl_dataset_line1/0314_28_2_27.jpg  \n",
            "  inflating: data/pbl_dataset_line1/0314_28_2_28.jpg  \n",
            "  inflating: data/pbl_dataset_line1/0314_28_2_29.jpg  \n",
            "  inflating: data/pbl_dataset_line1/0314_28_2_3.jpg  \n",
            "  inflating: data/pbl_dataset_line1/0314_28_2_30.jpg  \n",
            "  inflating: data/pbl_dataset_line1/0314_28_2_31.jpg  \n",
            "  inflating: data/pbl_dataset_line1/0314_28_2_32.jpg  \n",
            "  inflating: data/pbl_dataset_line1/0314_28_2_33.jpg  \n",
            "  inflating: data/pbl_dataset_line1/0314_28_2_34.jpg  \n",
            "  inflating: data/pbl_dataset_line1/0314_28_2_35.jpg  \n",
            "  inflating: data/pbl_dataset_line1/0314_28_2_36.jpg  \n",
            "  inflating: data/pbl_dataset_line1/0314_28_2_37.jpg  \n",
            "  inflating: data/pbl_dataset_line1/0314_28_2_38.jpg  \n",
            "  inflating: data/pbl_dataset_line1/0314_28_2_39.jpg  \n",
            "  inflating: data/pbl_dataset_line1/0314_28_2_4.jpg  \n",
            "  inflating: data/pbl_dataset_line1/0314_28_2_40.jpg  \n",
            "  inflating: data/pbl_dataset_line1/0314_28_2_41.jpg  \n",
            "  inflating: data/pbl_dataset_line1/0314_28_2_42.jpg  \n",
            "  inflating: data/pbl_dataset_line1/0314_28_2_43.jpg  \n",
            "  inflating: data/pbl_dataset_line1/0314_28_2_44.jpg  \n",
            "  inflating: data/pbl_dataset_line1/0314_28_2_45.jpg  \n",
            "  inflating: data/pbl_dataset_line1/0314_28_2_46.jpg  \n",
            "  inflating: data/pbl_dataset_line1/0314_28_2_47.jpg  \n",
            "  inflating: data/pbl_dataset_line1/0314_28_2_48.jpg  \n",
            "  inflating: data/pbl_dataset_line1/0314_28_2_5.jpg  \n",
            "  inflating: data/pbl_dataset_line1/0314_28_2_6.jpg  \n",
            "  inflating: data/pbl_dataset_line1/0314_28_2_7.jpg  \n",
            "  inflating: data/pbl_dataset_line1/0314_28_2_8.jpg  \n",
            "  inflating: data/pbl_dataset_line1/0314_28_2_9.jpg  \n",
            "  inflating: data/pbl_dataset_line1/0314_28_3_0.jpg  \n",
            "  inflating: data/pbl_dataset_line1/0314_28_3_1.jpg  \n",
            "  inflating: data/pbl_dataset_line1/0314_28_3_10.jpg  \n",
            "  inflating: data/pbl_dataset_line1/0314_28_3_11.jpg  \n",
            "  inflating: data/pbl_dataset_line1/0314_28_3_12.jpg  \n",
            "  inflating: data/pbl_dataset_line1/0314_28_3_13.jpg  \n",
            "  inflating: data/pbl_dataset_line1/0314_28_3_14.jpg  \n",
            "  inflating: data/pbl_dataset_line1/0314_28_3_15.jpg  \n",
            "  inflating: data/pbl_dataset_line1/0314_28_3_16.jpg  \n",
            "  inflating: data/pbl_dataset_line1/0314_28_3_17.jpg  \n",
            "  inflating: data/pbl_dataset_line1/0314_28_3_18.jpg  \n",
            "  inflating: data/pbl_dataset_line1/0314_28_3_19.jpg  \n",
            "  inflating: data/pbl_dataset_line1/0314_28_3_2.jpg  \n",
            "  inflating: data/pbl_dataset_line1/0314_28_3_20.jpg  \n",
            "  inflating: data/pbl_dataset_line1/0314_28_3_21.jpg  \n",
            "  inflating: data/pbl_dataset_line1/0314_28_3_22.jpg  \n",
            "  inflating: data/pbl_dataset_line1/0314_28_3_23.jpg  \n",
            "  inflating: data/pbl_dataset_line1/0314_28_3_3.jpg  \n",
            "  inflating: data/pbl_dataset_line1/0314_28_3_4.jpg  \n",
            "  inflating: data/pbl_dataset_line1/0314_28_3_5.jpg  \n",
            "  inflating: data/pbl_dataset_line1/0314_28_3_6.jpg  \n",
            "  inflating: data/pbl_dataset_line1/0314_28_3_7.jpg  \n",
            "  inflating: data/pbl_dataset_line1/0314_28_3_8.jpg  \n",
            "  inflating: data/pbl_dataset_line1/0314_28_3_9.jpg  \n"
          ]
        }
      ]
    },
    {
      "cell_type": "markdown",
      "source": [
        "Đổi tên folder pbl_dataset thành img"
      ],
      "metadata": {
        "id": "zGIsH9ykomDr"
      }
    },
    {
      "cell_type": "code",
      "source": [
        "os.rename(os.path.join(\"data\", \"pbl_dataset_line1\"), os.path.join(\"data\", \"img\"))"
      ],
      "metadata": {
        "id": "ahihm5gjfIl6"
      },
      "execution_count": null,
      "outputs": []
    },
    {
      "cell_type": "markdown",
      "source": [
        "# Labelling"
      ],
      "metadata": {
        "id": "Rp_L8DEDh6JW"
      }
    },
    {
      "cell_type": "code",
      "source": [
        "img_path = os.path.join(\"data\", \"img\")\n",
        "annotation_path = os.path.join(\"data\", \"annotation1.txt\")"
      ],
      "metadata": {
        "id": "CH3dnUm1fsUR"
      },
      "execution_count": null,
      "outputs": []
    },
    {
      "cell_type": "code",
      "source": [
        "img_data = os.listdir(img_path)\n",
        "img_data = sorted(img_data)  # sort alphabetically"
      ],
      "metadata": {
        "id": "IM3yIRbLgdzY"
      },
      "execution_count": null,
      "outputs": []
    },
    {
      "cell_type": "code",
      "source": [
        "import matplotlib.pyplot as plt\n",
        "from PIL import Image\n",
        "import cv2\n",
        "from vietocr.tool.predictor import Predictor\n",
        "from vietocr.tool.config import Cfg\n",
        "from vietocr.model.trainer import Trainer"
      ],
      "metadata": {
        "id": "9VoQJDbnVGVS"
      },
      "execution_count": null,
      "outputs": []
    },
    {
      "cell_type": "code",
      "source": [
        "config = Cfg.load_config_from_name('vgg_seq2seq')\n",
        "config['device'] = 'cpu'\n",
        "# config['device'] = 'cuda:0'\n",
        "detector = Predictor(config)"
      ],
      "metadata": {
        "colab": {
          "base_uri": "https://localhost:8080/"
        },
        "id": "Pufz6vtlDSh2",
        "outputId": "b15feb92-b849-458a-a428-308e8fb99a9f"
      },
      "execution_count": null,
      "outputs": [
        {
          "output_type": "stream",
          "name": "stdout",
          "text": [
            "Model weight /tmp/vgg_seq2seq.pth exsits. Ignore download!\n"
          ]
        }
      ]
    },
    {
      "cell_type": "code",
      "source": [
        "i=800\n",
        "\n",
        "# Mỗi lần duyệt 50 ảnh để so sánh nhãn và ảnh, nếu nhãn sai thì sửa lại trong file annotation.txt\n",
        "for item in img_data[i:i+50]:\n",
        "  path_to_image = os.path.join(img_path, item)\n",
        "  img = Image.open(path_to_image)\n",
        "  s = detector.predict(img)\n",
        "  print(item + \"\\t\" + s)\n",
        "  plt.figure(figsize=(5, 3))\n",
        "  plt.imshow(img)\n",
        "  plt.show()\n",
        "  with open(annotation_path, 'a', encoding='utf-8') as file:\n",
        "    file.write(\"img/\" + item + \"\\t\" + s + \"\\n\")"
      ],
      "metadata": {
        "id": "Nt4hoIJJDv8q",
        "colab": {
          "base_uri": "https://localhost:8080/",
          "height": 668
        },
        "outputId": "b4d877ff-8a21-4ec0-fafd-0eee1ec2d966"
      },
      "execution_count": null,
      "outputs": [
        {
          "output_type": "stream",
          "name": "stdout",
          "text": [
            "0314_28_3_6.jpg\tđược lập lại. Chúng tôi kêu gọi\n"
          ]
        },
        {
          "output_type": "display_data",
          "data": {
            "text/plain": [
              "<Figure size 500x300 with 1 Axes>"
            ],
            "image/png": "[encoded data removed]"
          },
          "metadata": {}
        },
        {
          "output_type": "stream",
          "name": "stdout",
          "text": [
            "0314_28_3_7.jpg\tđồng bào\n"
          ]
        },
        {
          "output_type": "display_data",
          "data": {
            "text/plain": [
              "<Figure size 500x300 with 1 Axes>"
            ],
            "image/png": "[encoded data removed]"
          },
          "metadata": {}
        },
        {
          "output_type": "stream",
          "name": "stdout",
          "text": [
            "0314_28_3_8.jpg\ttrấn\n"
          ]
        },
        {
          "output_type": "display_data",
          "data": {
            "text/plain": [
              "<Figure size 500x300 with 1 Axes>"
            ],
            "image/png": "[encoded data removed]"
          },
          "metadata": {}
        },
        {
          "output_type": "stream",
          "name": "stdout",
          "text": [
            "0314_28_3_9.jpg\ttĩnh. Lũ khát máu bài Do\n"
          ]
        },
        {
          "output_type": "display_data",
          "data": {
            "text/plain": [
              "<Figure size 500x300 with 1 Axes>"
            ],
            "image/png": "[encoded data removed]"
          },
          "metadata": {}
        }
      ]
    },
    {
      "cell_type": "markdown",
      "source": [
        "Xóa những ảnh lỗi (không phải text, nhiều dòng chữ, ...)"
      ],
      "metadata": {
        "id": "1w8wZEsNhoEc"
      }
    },
    {
      "cell_type": "code",
      "source": [
        "os.remove(os.path.join(img_path, \"corrupted_image.jpg\"))\n",
        "# Xóa ảnh thì nhớ xóa luôn nhãn"
      ],
      "metadata": {
        "id": "RwpgcxE7Tkrx"
      },
      "execution_count": null,
      "outputs": []
    },
    {
      "cell_type": "markdown",
      "source": [
        "## Sync annotation file on drive"
      ],
      "metadata": {
        "id": "2KCHfGF9xImN"
      }
    },
    {
      "cell_type": "markdown",
      "source": [
        "Mount drive in content/drive"
      ],
      "metadata": {
        "id": "hkNphsUBxNh5"
      }
    },
    {
      "cell_type": "code",
      "source": [
        "from google.colab import drive\n",
        "drive.mount('/content/drive')"
      ],
      "metadata": {
        "colab": {
          "base_uri": "https://localhost:8080/"
        },
        "id": "CfCZDsQ4unrM",
        "outputId": "9caf331d-4f5b-4de5-eb43-ca34345d5da2"
      },
      "execution_count": null,
      "outputs": [
        {
          "output_type": "stream",
          "name": "stdout",
          "text": [
            "Mounted at /content/drive\n"
          ]
        }
      ]
    },
    {
      "cell_type": "markdown",
      "source": [
        "Copy annotation.txt from runtime to google drive"
      ],
      "metadata": {
        "id": "MdE5i3FQxRcf"
      }
    },
    {
      "cell_type": "code",
      "source": [
        "!cp /content/data/annotation1.txt /content/drive/MyDrive/DatasetOCR/ds_line"
      ],
      "metadata": {
        "id": "rleIWwa1vJfT"
      },
      "execution_count": null,
      "outputs": []
    },
    {
      "cell_type": "markdown",
      "source": [
        "Copy annotation.txt from google drive to runtime"
      ],
      "metadata": {
        "id": "A5W2blv29h_E"
      }
    },
    {
      "cell_type": "code",
      "source": [
        "!cp /content/drive/MyDrive/DatasetOCR/ds_line/annotation1.txt /content/data"
      ],
      "metadata": {
        "id": "NfKsopwD7Rvu"
      },
      "execution_count": null,
      "outputs": []
    }
  ]
}